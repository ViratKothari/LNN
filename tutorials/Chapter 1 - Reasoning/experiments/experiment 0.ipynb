{
 "cells": [
  {
   "cell_type": "markdown",
   "id": "f8518e84-5090-4c75-a0a5-caedee0a439c",
   "metadata": {
    "tags": []
   },
   "source": [
    "# Propositional Logic Experiment\n",
    "\n",
    "In this notebook, we will test your skills on using the LNN in a propositional setting. You will be required to use your knowledge about per-node reasoning and bounds to complete the code and answer the query. Once you have evaluated the end result, [submit your answer](https://ibm.ent.box.com/notes/928968934657?s=42l32h0uno2ndq5o9omb7hl17dddpjuk) to become eligble for the [IBM Neuro-Symbolic AI Essentials](https://ibm.biz/nsai-essentials) Badge."
   ]
  },
  {
   "cell_type": "markdown",
   "id": "4ba45830-585b-4ee0-93dc-793a2ee3d94c",
   "metadata": {
    "tags": []
   },
   "source": [
    "### Learning Outcomes\n",
    "\n",
    "The [Propositional Logic](../0.%20Propositional%20Logic.ipynb) notebooks demonstrated logical reasoning to evaluate and inspect an LNN graph. This experiment will assess your ability to deconstruct a graph and infer truths for individual nodes. Completing the notebook provides the following learning outcomes:\n",
    "\n",
    "- Omni-directional inference per-node\n",
    "- Printing nodes to evaluate truths\n",
    "- Querying information based on inferred truths"
   ]
  },
  {
   "cell_type": "markdown",
   "id": "a4138282-78a7-4ffa-8cb0-78f0cd881ca1",
   "metadata": {
    "tags": []
   },
   "source": [
    "### Instructions\n",
    "\n",
    "1. _Use_ the illustrations given as a guide on how to reason with an LNN graph\n",
    "\n",
    "2. _Fill_ in code that will evaluate the correct truth values expected from performing logical inference\n",
    "\n",
    "3. _Query_ the logical disjunction between nodes B, D and E\n",
    "\n",
    "4. _Copy & paste_ the output of the result into the form under the `results` field "
   ]
  },
  {
   "cell_type": "markdown",
   "id": "f210f9bc-f931-460c-aed7-3c7be43df521",
   "metadata": {},
   "source": [
    "### Propositional Inference\n",
    "\n",
    "Recall that a proposition is any declarative sentence that allows you to associate a truth value with the atomic formulae. An LNN graph can hierarchically compose these propositions using logical connectives and reason over their respective truths. Evaluating a particular node requires an upward/downward inference pass.\n",
    "\n",
    "Suppose that you are given the following LNN graph:\n",
    "\n",
    "\n",
    "where the following beliefs are outputs from sensor information:\n",
    "```\n",
    "root: TRUE\n",
    "A: 0.2\n",
    "C: True\n",
    "E: 0.3 - 0.7\n",
    "```\n",
    "\n",
    "Your task is to perform successive inference passes to obtain the truth value of a query node. \n",
    "> HINT: use the `node.print()` function as a guide to ensure that the LNN is returning the correct truths. \n",
    "\n",
    "The final query is to return the truth of a **disjunction** of the following propositions:\n",
    "\n",
    "\\begin{equation}(B, D, E)\\end{equation}\n",
    "\n",
    "> NB: use the provided function definition to help you extract out the correct truth value bounds\n",
    "\n",
    "<center>\n",
    "    <figure>\n",
    "        <img src=\"../img/experiment/0/graph.png\" width=\"400\" />\n",
    "        <figcaption>Figure 1. Propositional inference</figcaption>\n",
    "    </figure>\n",
    "</center>"
   ]
  },
  {
   "cell_type": "markdown",
   "id": "6e187855-7ac0-4e68-9304-faa44277bb7d",
   "metadata": {},
   "source": [
    "Fill in the codeblock below to construct the graph and reason about all nodes:"
   ]
  },
  {
   "cell_type": "code",
   "execution_count": 1,
   "id": "db2b467c",
   "metadata": {},
   "outputs": [],
   "source": [
    "# !pip install pygraphviz\n",
    "import numpy as np"
   ]
  },
  {
   "cell_type": "code",
   "execution_count": 5,
   "id": "8798651d",
   "metadata": {},
   "outputs": [
    {
     "name": "stdout",
     "output_type": "stream",
     "text": [
      "Collecting git+https://github.com/IBM/LNN.git\n"
     ]
    },
    {
     "name": "stderr",
     "output_type": "stream",
     "text": [
      "  Running command git clone --filter=blob:none --quiet https://github.com/IBM/LNN.git 'C:\\Users\\shree\\AppData\\Local\\Temp\\pip-req-build-w2mrgvrp'\n"
     ]
    },
    {
     "name": "stdout",
     "output_type": "stream",
     "text": [
      "  Cloning https://github.com/IBM/LNN.git to c:\\users\\shree\\appdata\\local\\temp\\pip-req-build-w2mrgvrp\n",
      "  Resolved https://github.com/IBM/LNN.git to commit e7f7c44a4c3cc4e6ab3063553a501b0fb0c24e3a\n",
      "  Preparing metadata (setup.py): started\n",
      "  Preparing metadata (setup.py): finished with status 'done'\n",
      "Collecting networkx>=2.5.1\n",
      "  Using cached networkx-2.8.5-py3-none-any.whl (2.0 MB)\n",
      "Requirement already satisfied: torch>=1.9.0 in c:\\users\\shree\\.conda\\envs\\lnn\\lib\\site-packages (from lnn==1.1) (1.12.1)\n",
      "Collecting matplotlib>=3.3.3\n",
      "  Using cached matplotlib-3.5.3-cp310-cp310-win_amd64.whl (7.2 MB)\n",
      "Requirement already satisfied: pygraphviz>=1.6 in c:\\users\\shree\\.conda\\envs\\lnn\\lib\\site-packages (from lnn==1.1) (1.9)\n",
      "Requirement already satisfied: tqdm>=4.50.2 in c:\\users\\shree\\.conda\\envs\\lnn\\lib\\site-packages (from lnn==1.1) (4.64.0)\n",
      "Collecting numpy~=1.21.0\n",
      "  Using cached numpy-1.21.6-cp310-cp310-win_amd64.whl (14.0 MB)\n",
      "Requirement already satisfied: setuptools~=52.0.0 in c:\\users\\shree\\.conda\\envs\\lnn\\lib\\site-packages (from lnn==1.1) (52.0.0)\n",
      "Collecting torchviz>=0.0.2\n",
      "  Using cached torchviz-0.0.2-py3-none-any.whl\n",
      "Collecting pycddlib>=2.1.4\n",
      "  Using cached pycddlib-2.1.6-cp310-cp310-win_amd64.whl (276 kB)\n",
      "Collecting jupyter\n",
      "  Using cached jupyter-1.0.0-py2.py3-none-any.whl (2.7 kB)\n",
      "Requirement already satisfied: tabulate in c:\\users\\shree\\.conda\\envs\\lnn\\lib\\site-packages (from lnn==1.1) (0.8.10)\n",
      "Collecting pandas>=1.3.4\n",
      "  Using cached pandas-1.4.3-cp310-cp310-win_amd64.whl (10.5 MB)\n",
      "Requirement already satisfied: packaging>=20.0 in c:\\users\\shree\\.conda\\envs\\lnn\\lib\\site-packages (from matplotlib>=3.3.3->lnn==1.1) (21.3)\n",
      "Collecting cycler>=0.10\n",
      "  Using cached cycler-0.11.0-py3-none-any.whl (6.4 kB)\n",
      "Requirement already satisfied: pyparsing>=2.2.1 in c:\\users\\shree\\.conda\\envs\\lnn\\lib\\site-packages (from matplotlib>=3.3.3->lnn==1.1) (3.0.4)\n",
      "Collecting fonttools>=4.22.0\n",
      "  Using cached fonttools-4.34.4-py3-none-any.whl (944 kB)\n",
      "Collecting pillow>=6.2.0\n",
      "  Using cached Pillow-9.2.0-cp310-cp310-win_amd64.whl (3.3 MB)\n",
      "Requirement already satisfied: python-dateutil>=2.7 in c:\\users\\shree\\.conda\\envs\\lnn\\lib\\site-packages (from matplotlib>=3.3.3->lnn==1.1) (2.8.2)\n",
      "Collecting kiwisolver>=1.0.1\n",
      "  Using cached kiwisolver-1.4.4-cp310-cp310-win_amd64.whl (55 kB)\n",
      "Requirement already satisfied: pytz>=2020.1 in c:\\users\\shree\\.conda\\envs\\lnn\\lib\\site-packages (from pandas>=1.3.4->lnn==1.1) (2022.2.1)\n",
      "Requirement already satisfied: typing-extensions in c:\\users\\shree\\.conda\\envs\\lnn\\lib\\site-packages (from torch>=1.9.0->lnn==1.1) (4.3.0)\n",
      "Requirement already satisfied: graphviz in c:\\users\\shree\\.conda\\envs\\lnn\\lib\\site-packages (from torchviz>=0.0.2->lnn==1.1) (0.20.1)\n",
      "Requirement already satisfied: colorama in c:\\users\\shree\\.conda\\envs\\lnn\\lib\\site-packages (from tqdm>=4.50.2->lnn==1.1) (0.4.5)\n",
      "Collecting jupyter-console\n",
      "  Using cached jupyter_console-6.4.4-py3-none-any.whl (22 kB)\n",
      "Requirement already satisfied: ipykernel in c:\\users\\shree\\.conda\\envs\\lnn\\lib\\site-packages (from jupyter->lnn==1.1) (6.9.1)\n",
      "Collecting qtconsole\n",
      "  Using cached qtconsole-5.3.1-py3-none-any.whl (120 kB)\n",
      "Collecting ipywidgets\n",
      "  Using cached ipywidgets-7.7.1-py2.py3-none-any.whl (123 kB)\n",
      "Requirement already satisfied: nbconvert in c:\\users\\shree\\.conda\\envs\\lnn\\lib\\site-packages (from jupyter->lnn==1.1) (6.4.4)\n",
      "Requirement already satisfied: notebook in c:\\users\\shree\\.conda\\envs\\lnn\\lib\\site-packages (from jupyter->lnn==1.1) (6.4.12)\n",
      "Requirement already satisfied: six>=1.5 in c:\\users\\shree\\.conda\\envs\\lnn\\lib\\site-packages (from python-dateutil>=2.7->matplotlib>=3.3.3->lnn==1.1) (1.16.0)\n",
      "Requirement already satisfied: ipython>=7.23.1 in c:\\users\\shree\\.conda\\envs\\lnn\\lib\\site-packages (from ipykernel->jupyter->lnn==1.1) (8.4.0)\n",
      "Requirement already satisfied: tornado<7.0,>=4.2 in c:\\users\\shree\\.conda\\envs\\lnn\\lib\\site-packages (from ipykernel->jupyter->lnn==1.1) (6.1)\n",
      "Requirement already satisfied: matplotlib-inline<0.2.0,>=0.1.0 in c:\\users\\shree\\.conda\\envs\\lnn\\lib\\site-packages (from ipykernel->jupyter->lnn==1.1) (0.1.2)\n",
      "Requirement already satisfied: traitlets<6.0,>=5.1.0 in c:\\users\\shree\\.conda\\envs\\lnn\\lib\\site-packages (from ipykernel->jupyter->lnn==1.1) (5.1.1)\n",
      "Requirement already satisfied: nest-asyncio in c:\\users\\shree\\.conda\\envs\\lnn\\lib\\site-packages (from ipykernel->jupyter->lnn==1.1) (1.5.5)\n",
      "Requirement already satisfied: jupyter-client<8.0 in c:\\users\\shree\\.conda\\envs\\lnn\\lib\\site-packages (from ipykernel->jupyter->lnn==1.1) (7.2.2)\n",
      "Requirement already satisfied: debugpy<2.0,>=1.0.0 in c:\\users\\shree\\.conda\\envs\\lnn\\lib\\site-packages (from ipykernel->jupyter->lnn==1.1) (1.5.1)\n",
      "Collecting widgetsnbextension~=3.6.0\n",
      "  Using cached widgetsnbextension-3.6.1-py2.py3-none-any.whl (1.6 MB)\n",
      "Collecting jupyterlab-widgets>=1.0.0\n",
      "  Using cached jupyterlab_widgets-1.1.1-py3-none-any.whl (245 kB)\n",
      "Requirement already satisfied: ipython-genutils~=0.2.0 in c:\\users\\shree\\.conda\\envs\\lnn\\lib\\site-packages (from ipywidgets->jupyter->lnn==1.1) (0.2.0)\n",
      "Requirement already satisfied: prompt-toolkit!=3.0.0,!=3.0.1,<3.1.0,>=2.0.0 in c:\\users\\shree\\.conda\\envs\\lnn\\lib\\site-packages (from jupyter-console->jupyter->lnn==1.1) (3.0.20)\n",
      "Requirement already satisfied: pygments in c:\\users\\shree\\.conda\\envs\\lnn\\lib\\site-packages (from jupyter-console->jupyter->lnn==1.1) (2.11.2)\n",
      "Requirement already satisfied: jupyter-core in c:\\users\\shree\\.conda\\envs\\lnn\\lib\\site-packages (from nbconvert->jupyter->lnn==1.1) (4.10.0)\n",
      "Requirement already satisfied: bleach in c:\\users\\shree\\.conda\\envs\\lnn\\lib\\site-packages (from nbconvert->jupyter->lnn==1.1) (4.1.0)\n",
      "Requirement already satisfied: beautifulsoup4 in c:\\users\\shree\\.conda\\envs\\lnn\\lib\\site-packages (from nbconvert->jupyter->lnn==1.1) (4.11.1)\n",
      "Requirement already satisfied: jupyterlab-pygments in c:\\users\\shree\\.conda\\envs\\lnn\\lib\\site-packages (from nbconvert->jupyter->lnn==1.1) (0.1.2)\n",
      "Requirement already satisfied: mistune<2,>=0.8.1 in c:\\users\\shree\\.conda\\envs\\lnn\\lib\\site-packages (from nbconvert->jupyter->lnn==1.1) (0.8.4)\n",
      "Requirement already satisfied: entrypoints>=0.2.2 in c:\\users\\shree\\.conda\\envs\\lnn\\lib\\site-packages (from nbconvert->jupyter->lnn==1.1) (0.4)\n",
      "Requirement already satisfied: testpath in c:\\users\\shree\\.conda\\envs\\lnn\\lib\\site-packages (from nbconvert->jupyter->lnn==1.1) (0.6.0)\n",
      "Requirement already satisfied: jinja2>=2.4 in c:\\users\\shree\\.conda\\envs\\lnn\\lib\\site-packages (from nbconvert->jupyter->lnn==1.1) (3.0.3)\n",
      "Requirement already satisfied: nbformat>=4.4 in c:\\users\\shree\\.conda\\envs\\lnn\\lib\\site-packages (from nbconvert->jupyter->lnn==1.1) (5.3.0)\n",
      "Requirement already satisfied: nbclient<0.6.0,>=0.5.0 in c:\\users\\shree\\.conda\\envs\\lnn\\lib\\site-packages (from nbconvert->jupyter->lnn==1.1) (0.5.13)\n",
      "Requirement already satisfied: defusedxml in c:\\users\\shree\\.conda\\envs\\lnn\\lib\\site-packages (from nbconvert->jupyter->lnn==1.1) (0.7.1)\n",
      "Requirement already satisfied: pandocfilters>=1.4.1 in c:\\users\\shree\\.conda\\envs\\lnn\\lib\\site-packages (from nbconvert->jupyter->lnn==1.1) (1.5.0)\n",
      "Requirement already satisfied: argon2-cffi in c:\\users\\shree\\.conda\\envs\\lnn\\lib\\site-packages (from notebook->jupyter->lnn==1.1) (21.3.0)\n",
      "Requirement already satisfied: Send2Trash>=1.8.0 in c:\\users\\shree\\.conda\\envs\\lnn\\lib\\site-packages (from notebook->jupyter->lnn==1.1) (1.8.0)\n",
      "Requirement already satisfied: prometheus-client in c:\\users\\shree\\.conda\\envs\\lnn\\lib\\site-packages (from notebook->jupyter->lnn==1.1) (0.14.1)\n",
      "Requirement already satisfied: pyzmq>=17 in c:\\users\\shree\\.conda\\envs\\lnn\\lib\\site-packages (from notebook->jupyter->lnn==1.1) (23.2.0)\n",
      "Requirement already satisfied: terminado>=0.8.3 in c:\\users\\shree\\.conda\\envs\\lnn\\lib\\site-packages (from notebook->jupyter->lnn==1.1) (0.13.1)\n",
      "Collecting qtpy>=2.0.1\n",
      "  Using cached QtPy-2.2.0-py3-none-any.whl (82 kB)\n",
      "Requirement already satisfied: stack-data in c:\\users\\shree\\.conda\\envs\\lnn\\lib\\site-packages (from ipython>=7.23.1->ipykernel->jupyter->lnn==1.1) (0.2.0)\n",
      "Requirement already satisfied: jedi>=0.16 in c:\\users\\shree\\.conda\\envs\\lnn\\lib\\site-packages (from ipython>=7.23.1->ipykernel->jupyter->lnn==1.1) (0.18.1)\n",
      "Requirement already satisfied: backcall in c:\\users\\shree\\.conda\\envs\\lnn\\lib\\site-packages (from ipython>=7.23.1->ipykernel->jupyter->lnn==1.1) (0.2.0)\n",
      "Requirement already satisfied: decorator in c:\\users\\shree\\.conda\\envs\\lnn\\lib\\site-packages (from ipython>=7.23.1->ipykernel->jupyter->lnn==1.1) (5.1.1)\n",
      "Requirement already satisfied: pickleshare in c:\\users\\shree\\.conda\\envs\\lnn\\lib\\site-packages (from ipython>=7.23.1->ipykernel->jupyter->lnn==1.1) (0.7.5)\n",
      "Requirement already satisfied: MarkupSafe>=2.0 in c:\\users\\shree\\.conda\\envs\\lnn\\lib\\site-packages (from jinja2>=2.4->nbconvert->jupyter->lnn==1.1) (2.1.1)\n",
      "Requirement already satisfied: pywin32>=1.0 in c:\\users\\shree\\.conda\\envs\\lnn\\lib\\site-packages (from jupyter-core->nbconvert->jupyter->lnn==1.1) (302)\n",
      "Requirement already satisfied: fastjsonschema in c:\\users\\shree\\.conda\\envs\\lnn\\lib\\site-packages (from nbformat>=4.4->nbconvert->jupyter->lnn==1.1) (2.15.1)\n",
      "Requirement already satisfied: jsonschema>=2.6 in c:\\users\\shree\\.conda\\envs\\lnn\\lib\\site-packages (from nbformat>=4.4->nbconvert->jupyter->lnn==1.1) (4.4.0)\n",
      "Requirement already satisfied: wcwidth in c:\\users\\shree\\.conda\\envs\\lnn\\lib\\site-packages (from prompt-toolkit!=3.0.0,!=3.0.1,<3.1.0,>=2.0.0->jupyter-console->jupyter->lnn==1.1) (0.2.5)\n",
      "Requirement already satisfied: pywinpty>=1.1.0 in c:\\users\\shree\\.conda\\envs\\lnn\\lib\\site-packages (from terminado>=0.8.3->notebook->jupyter->lnn==1.1) (2.0.2)\n",
      "Requirement already satisfied: argon2-cffi-bindings in c:\\users\\shree\\.conda\\envs\\lnn\\lib\\site-packages (from argon2-cffi->notebook->jupyter->lnn==1.1) (21.2.0)\n",
      "Requirement already satisfied: soupsieve>1.2 in c:\\users\\shree\\.conda\\envs\\lnn\\lib\\site-packages (from beautifulsoup4->nbconvert->jupyter->lnn==1.1) (2.3.1)\n",
      "Requirement already satisfied: webencodings in c:\\users\\shree\\.conda\\envs\\lnn\\lib\\site-packages (from bleach->nbconvert->jupyter->lnn==1.1) (0.5.1)\n",
      "Requirement already satisfied: parso<0.9.0,>=0.8.0 in c:\\users\\shree\\.conda\\envs\\lnn\\lib\\site-packages (from jedi>=0.16->ipython>=7.23.1->ipykernel->jupyter->lnn==1.1) (0.8.3)\n",
      "Requirement already satisfied: attrs>=17.4.0 in c:\\users\\shree\\.conda\\envs\\lnn\\lib\\site-packages (from jsonschema>=2.6->nbformat>=4.4->nbconvert->jupyter->lnn==1.1) (21.4.0)\n",
      "Requirement already satisfied: pyrsistent!=0.17.0,!=0.17.1,!=0.17.2,>=0.14.0 in c:\\users\\shree\\.conda\\envs\\lnn\\lib\\site-packages (from jsonschema>=2.6->nbformat>=4.4->nbconvert->jupyter->lnn==1.1) (0.18.0)\n",
      "Requirement already satisfied: cffi>=1.0.1 in c:\\users\\shree\\.conda\\envs\\lnn\\lib\\site-packages (from argon2-cffi-bindings->argon2-cffi->notebook->jupyter->lnn==1.1) (1.15.1)\n",
      "Requirement already satisfied: pure-eval in c:\\users\\shree\\.conda\\envs\\lnn\\lib\\site-packages (from stack-data->ipython>=7.23.1->ipykernel->jupyter->lnn==1.1) (0.2.2)\n",
      "Requirement already satisfied: asttokens in c:\\users\\shree\\.conda\\envs\\lnn\\lib\\site-packages (from stack-data->ipython>=7.23.1->ipykernel->jupyter->lnn==1.1) (2.0.5)\n",
      "Requirement already satisfied: executing in c:\\users\\shree\\.conda\\envs\\lnn\\lib\\site-packages (from stack-data->ipython>=7.23.1->ipykernel->jupyter->lnn==1.1) (0.8.3)\n",
      "Requirement already satisfied: pycparser in c:\\users\\shree\\.conda\\envs\\lnn\\lib\\site-packages (from cffi>=1.0.1->argon2-cffi-bindings->argon2-cffi->notebook->jupyter->lnn==1.1) (2.21)\n",
      "Building wheels for collected packages: lnn\n",
      "  Building wheel for lnn (setup.py): started\n",
      "  Building wheel for lnn (setup.py): finished with status 'done'\n",
      "  Created wheel for lnn: filename=lnn-1.1-py3-none-any.whl size=87976 sha256=12fa991686d0db7cbc9a043bba028301a999580a216e640ec1e71e99f7ebc8fe\n",
      "  Stored in directory: C:\\Users\\shree\\AppData\\Local\\Temp\\pip-ephem-wheel-cache-glgq3zji\\wheels\\3f\\1f\\f3\\08071dd7bac5def55dbae4d440f98bb08cb912458f624e67f3\n",
      "Successfully built lnn\n",
      "Installing collected packages: pycddlib, pillow, numpy, networkx, kiwisolver, jupyterlab-widgets, fonttools, cycler, torchviz, qtpy, pandas, matplotlib, qtconsole, jupyter-console, widgetsnbextension, ipywidgets, jupyter, lnn\n",
      "Successfully installed cycler-0.11.0 fonttools-4.34.4 ipywidgets-7.7.1 jupyter-1.0.0 jupyter-console-6.4.4 jupyterlab-widgets-1.1.1 kiwisolver-1.4.4 lnn-1.1 matplotlib-3.5.3 networkx-2.8.5 numpy-1.21.6 pandas-1.4.3 pillow-9.2.0 pycddlib-2.1.6 qtconsole-5.3.1 qtpy-2.2.0 torchviz-0.0.2 widgetsnbextension-3.6.1\n"
     ]
    }
   ],
   "source": [
    "# Installing LNN\n",
    "\n",
    "# !pip install --upgrade pip\n",
    "# !pip install git+https://github.com/IBM/LNN.git"
   ]
  },
  {
   "cell_type": "code",
   "execution_count": 36,
   "id": "f6089396-19e1-40ae-8055-a50be06417bd",
   "metadata": {
    "tags": []
   },
   "outputs": [
    {
     "name": "stdout",
     "output_type": "stream",
     "text": [
      "OPEN And: ((A → B) ∧ (((C ∧ D) → E) ∧ (E → (C ∧ D))))          TRUE (1.0, 1.0)\n",
      "\n",
      "OPEN Proposition: B                                APPROX_UNKNOWN (0.2, 1.0)\n",
      "\n",
      "OPEN Proposition: D                                APPROX_UNKNOWN (0.3, 0.7)\n",
      "\n",
      "OPEN Proposition: E                                APPROX_UNKNOWN (0.3, 0.7)\n",
      "\n"
     ]
    }
   ],
   "source": [
    "from lnn import Propositions, Fact, And, Implies, Equivalent, Model, Loss, Direction, Exists, Or\n",
    "\n",
    "# Rules\n",
    "A, B, C, D, E = Propositions(\"A\", \"B\", \"C\", \"D\", \"E\")\n",
    "X = Implies(A, B)\n",
    "Y = And(C, D)\n",
    "Z = Equivalent(Y, E)\n",
    "AND = And(X, Z)\n",
    "\n",
    "# Knowledge\n",
    "mdl = Model()\n",
    "mdl.add_knowledge(AND)\n",
    "\n",
    "# Data\n",
    "mdl.add_data({AND: Fact.TRUE, A: (0.2, 0.2), C: Fact.TRUE, E: (0.3, 0.7)})\n",
    "\n",
    "# Reasoning\n",
    "mdl.infer()\n",
    "AND.print()\n",
    "B.print()\n",
    "D.print()\n",
    "E.print()\n",
    "\n",
    "\n",
    "# =========== Alternative solution ===========\n",
    "\n",
    "# from lnn import Model, Loss, Direction, Proposition, And, Fact, Implies, Equivalent, Or\n",
    "\n",
    "# # Rules\n",
    "# A = Proposition(\"A\")\n",
    "# B = Proposition(\"B\")\n",
    "# C = Proposition(\"C\")\n",
    "# D = Proposition(\"D\")\n",
    "# E = Proposition(\"E\")\n",
    "# IMPLIES = Implies(A, B)\n",
    "# AND1 = And(C,D)\n",
    "# EQUIVALENT = Equivalent(AND1,E)\n",
    "# AND = And(IMPLIES, EQUIVALENT)\n",
    "# ANS = Or(B,D,E)\n",
    "\n",
    "# # Knowledge\n",
    "# model = Model()\n",
    "# model.add_knowledge(AND)\n",
    "# model.add_knowledge(AND1)\n",
    "# model.add_knowledge(IMPLIES)\n",
    "# model.add_knowledge(EQUIVALENT)\n",
    "# model.add_knowledge(ANS)\n",
    "\n",
    "# # Data\n",
    "# A.add_data((0.2, 1.0))\n",
    "# C.add_data(Fact.TRUE)\n",
    "# E.add_data((0.3, 0.7))\n",
    "# AND.add_data(Fact.TRUE)\n",
    "\n",
    "# # Reasoning\n",
    "# model.infer()\n",
    "# ANS.print()"
   ]
  },
  {
   "cell_type": "markdown",
   "id": "d866094a-7435-439d-a42a-80c78f5e9173",
   "metadata": {},
   "source": [
    "### Query\n",
    "Finally, find the state of the **disjunction** between nodes `B`, `D` and `E` using the `query_state` method.\n",
    "\n",
    "<center>\n",
    "    <figure>\n",
    "        <img src=\"../img/experiment/0/query.png\" width=\"200\" />\n",
    "        <figcaption>Figure 5. Perform inference to find the disjunction between nodes B, D and E</figcaption>\n",
    "    </figure>\n",
    "</center>"
   ]
  },
  {
   "cell_type": "code",
   "execution_count": 37,
   "id": "cf64a30b-fdb7-4c19-82dc-53f0d73a8c87",
   "metadata": {},
   "outputs": [
    {
     "data": {
      "text/plain": [
       "(2, tensor(0.8000))"
      ]
     },
     "execution_count": 37,
     "metadata": {},
     "output_type": "execute_result"
    }
   ],
   "source": [
    "query = Or(B, D, E)\n",
    "mdl.add_knowledge(query)\n",
    "mdl.infer()\n",
    "\n",
    "# =========== Alternative solution ===========\n",
    "\n",
    "# query = ANS\n",
    "# model.add_knowledge(query)\n",
    "# model[query].state()"
   ]
  },
  {
   "cell_type": "markdown",
   "id": "87924e73-5235-4f16-b955-838400a6c731",
   "metadata": {},
   "source": [
    "<h2 style=\"color:#0f62fe\"><strong>NSAI Essentials Submission</strong></h2>\n",
    "\n",
    "- Run the codeblock below to extract the output of the query that was reasoned over. \n",
    "- The output from the cell, **including the quotation marks**, should be filled in the `result` field of the evaluation form.\n",
    "- See the [NSAI Essentials description](https://ibm.box.com/s/42l32h0uno2ndq5o9omb7hl17dddpjuk) for more details on the submission."
   ]
  },
  {
   "cell_type": "code",
   "execution_count": 38,
   "id": "b9676877-765f-4161-be1a-40079275012a",
   "metadata": {},
   "outputs": [
    {
     "data": {
      "text/plain": [
       "'APPROX_TRUE: (0.8, 1.0)'"
      ]
     },
     "execution_count": 38,
     "metadata": {},
     "output_type": "execute_result"
    }
   ],
   "source": [
    "def format_result(node):\n",
    "    round_off = lambda my_list: [float(f\"{_:.1f}\") for _ in my_list]\n",
    "    return f\"{node.state().name}: {tuple(round_off(node.get_data().tolist()))}\"\n",
    "\n",
    "format_result(query)"
   ]
  },
  {
   "cell_type": "markdown",
   "id": "11c7b63e-857c-4260-ab42-8e0f49dadca0",
   "metadata": {},
   "source": [
    "🎉 Congratulations on completing the first set of tutorials on propositional logic 🎉 "
   ]
  }
 ],
 "metadata": {
  "kernelspec": {
   "display_name": "Python 3 (ipykernel)",
   "language": "python",
   "name": "python3"
  },
  "language_info": {
   "codemirror_mode": {
    "name": "ipython",
    "version": 3
   },
   "file_extension": ".py",
   "mimetype": "text/x-python",
   "name": "python",
   "nbconvert_exporter": "python",
   "pygments_lexer": "ipython3",
   "version": "3.10.4"
  }
 },
 "nbformat": 4,
 "nbformat_minor": 5
}
